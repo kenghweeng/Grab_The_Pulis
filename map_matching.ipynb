{
 "cells": [
  {
   "cell_type": "markdown",
   "id": "extraordinary-reaction",
   "metadata": {},
   "source": [
    "## Setup"
   ]
  },
  {
   "cell_type": "code",
   "execution_count": 7,
   "id": "developmental-holder",
   "metadata": {},
   "outputs": [],
   "source": [
    "from IPython.display import IFrame, HTML"
   ]
  },
  {
   "cell_type": "code",
   "execution_count": 8,
   "id": "generic-liability",
   "metadata": {},
   "outputs": [
    {
     "data": {
      "text/html": [
       "<style>\n",
       ".output {\n",
       "    align-items: center;\n",
       "}\n",
       "</style>"
      ],
      "text/plain": [
       "<IPython.core.display.HTML object>"
      ]
     },
     "execution_count": 8,
     "metadata": {},
     "output_type": "execute_result"
    }
   ],
   "source": [
    "CSS = \"\"\"\n",
    ".output {\n",
    "    align-items: center;\n",
    "}\n",
    "\"\"\"\n",
    "\n",
    "HTML('<style>{}</style>'.format(CSS))"
   ]
  },
  {
   "cell_type": "markdown",
   "id": "caring-april",
   "metadata": {},
   "source": [
    "## Map Matching"
   ]
  },
  {
   "cell_type": "markdown",
   "id": "subtle-journey",
   "metadata": {},
   "source": [
    "### Background\n",
    "After the data has been sorted, map-matching needs to be done for accurate analysis of the data.\n",
    "This is because some GPS pings may not be accurate, and appear on non-roads.\n",
    "Benefits of map-matching include:\n",
    "- Proper comparison between the route taken by the vehicle, and routes obtained through Google Maps API/ OpenStreetMap API\n",
    "- Distance can be calculated accurately"
   ]
  },
  {
   "cell_type": "markdown",
   "id": "dense-surveillance",
   "metadata": {},
   "source": [
    "After the data has been sorted, map-matching needs to be done for accurate analysis of the data.\n",
    "This is because some GPS pings may not be accurate, and appear on non-roads.\n",
    "Benefits of map-matching include:\n",
    "- Proper comparison between the route taken by the vehicle, and routes obtained through Google Maps API/ OpenStreetMap API\n",
    "- Distance can be calculated accurately\n",
    "\n",
    "Inspired by [this article](https://towardsdatascience.com/map-matching-done-right-using-valhallas-meili-f635ebd17053), [`Valhalla`](https://github.com/valhalla/valhalla), a C++ library is utlised to do the map matching.\n",
    "`Valhalla` is an open source routing engine that provides features such as turn-by-turn directions, isochrones, tour optimisation and map matching, for use with OpenStreetMap data.\n",
    "\n",
    "Put simply, `Valhalla`'s map matching is based on obtaining the most likely map match through the Viterbi algorithm in the context of Hidden Markov Models.\n",
    "In layman terms, for each point the nearest candidates of road segments within a given radius are found, and the segment with the highest probability is chosen."
   ]
  },
  {
   "cell_type": "markdown",
   "id": "corresponding-fruit",
   "metadata": {},
   "source": [
    "### Implementation details\n",
    "In order to utilise `Valhalla`'s functionality, it first needs to be run on a server.\n",
    "For quick reference, a demo server with an open-source web app interface is available [here](https://valhalla.openstreetmap.de/).\n",
    "\n",
    "For the purposes of this project, a local server was used as the demo servers are rate-limited.\n",
    "The server was set up based on instructions from [here](https://gis-ops.com/valhalla-part-1-how-to-install-on-ubuntu/) and [here](https://gis-ops.com/valhalla-part-2-how-to-run-valhalla-on-ubuntu/).\n",
    "The OpenStreetMap data for Singapore and Jakarta were obtained from [Geofabrik](https://download.geofabrik.de/)."
   ]
  },
  {
   "cell_type": "markdown",
   "id": "reduced-planet",
   "metadata": {},
   "source": [
    "After setting up the server locally at `http://localhost:8002`, requests can then be sent to it to obtain a map-matched version of trajectories.\n",
    "Instead of matching all trajectories, a subset of them which start and end at Point-of-Interests (POIs) were considered."
   ]
  },
  {
   "cell_type": "markdown",
   "id": "fundamental-chile",
   "metadata": {},
   "source": [
    "#### Preparing individual trajectory data from processed data"
   ]
  },
  {
   "cell_type": "code",
   "execution_count": null,
   "id": "devoted-shelf",
   "metadata": {},
   "outputs": [],
   "source": [
    "path = \"./data\"\n",
    "files = os.listdir(path)\n",
    "\n",
    "path_data = os.path.join(path,\"processed_sgp.ftr\")\n",
    "\n",
    "df=pd.read_feather(path_data)\n",
    "groups = df.groupby(\"trj_id\")"
   ]
  },
  {
   "cell_type": "code",
   "execution_count": null,
   "id": "cognitive-economics",
   "metadata": {},
   "outputs": [],
   "source": [
    "# Reading in the list of trajectories\n",
    "with open(os.path.join(path,\"jkt_matching_poi.txt\"), 'r') as f:\n",
    "    l = list(map(str,eval(f.read())))"
   ]
  },
  {
   "cell_type": "markdown",
   "id": "fantastic-milan",
   "metadata": {},
   "source": [
    "#### Forming the request and sending to Valhalla"
   ]
  },
  {
   "cell_type": "code",
   "execution_count": null,
   "id": "phantom-connectivity",
   "metadata": {},
   "outputs": [],
   "source": [
    "for id in tqdm(l):\n",
    "    if os.path.isfile(f\"./data/matched/sgp/{id}.ftr\"):\n",
    "        continue\n",
    "    try:\n",
    "        match_location(group)\n",
    "    except Exception as e:\n",
    "        print(f\"Request for {id} failed with message {e}\")"
   ]
  },
  {
   "cell_type": "code",
   "execution_count": null,
   "id": "sublime-liver",
   "metadata": {},
   "outputs": [],
   "source": [
    "def match_location(group):\n",
    "    df = group[[\"rawlat\",\"rawlng\"]]\n",
    "    df.columns=['lat','lon']\n",
    "    name = group.iloc[0,0]\n",
    "    meili_coordinates = df.to_json(orient='records')\n",
    "    meili_head = '{\"shape\":'\n",
    "    meili_tail = \"\"\",\"search_radius\": 150, \"shape_match\":\"map_snap\", \"costing\":\"auto\", \"format\":\"osrm\"}\"\"\"\n",
    "    meili_request_body = meili_head + meili_coordinates + meili_tail\n",
    "    \n",
    "    url = \"http://localhost:8002/trace_route\"\n",
    "    headers = {'Content-type': 'application/json'}\n",
    "    data = str(meili_request_body)\n",
    "    r = requests.post(url, data=data, headers=headers)\n",
    "    \n",
    "    assert r.status_code == 200\n",
    "    \n",
    "    # Parsing the response\n",
    "    response_text = json.loads(r.text)\n",
    "    resp = str(response_text['tracepoints'])\n",
    "    resp = resp.replace(\"'waypoint_index': None\", \"'waypoint_index': '#'\")\n",
    "    resp = resp.replace(\"None\", \"{'matchings_index': '#', 'name': '', 'waypoint_index': '#', 'alternatives_count': 0, 'distance': 0, 'location': [0.0, 0.0]}\")\n",
    "    resp = resp.replace(\"'\", '\"')\n",
    "    resp = json.dumps(resp)\n",
    "    resp = json.loads(resp)\n",
    "    df_response = pd.read_json(resp)\n",
    "    df_response = df_response[['location']]\n",
    "    group[\"location\"]=df_response.iloc[:,0].values\n",
    "    \n",
    "    # Save the data\n",
    "    group.reset_index(drop=True).to_feather(f\"./data/matched/sgp/{name}.ftr\")\n",
    "    return "
   ]
  },
  {
   "cell_type": "markdown",
   "id": "alien-assist",
   "metadata": {},
   "source": [
    "#### Visualising the outputs\n",
    "The matched data can then be plotted to visualise the significance of map matching.\n",
    "Several examples are shown below.\n",
    "The yellow dots are the raw data, while the blue dots are the matched data."
   ]
  },
  {
   "cell_type": "code",
   "execution_count": null,
   "id": "antique-italy",
   "metadata": {},
   "outputs": [],
   "source": [
    "from keplergl import KeplerGl\n",
    "def visualise(trj_id, config=None):\n",
    "    df = pd.read_feather(f\"./data/{trj_id}.ftr\")\n",
    "\n",
    "    matched_lon=df[\"location\"].apply(lambda x:x[0])\n",
    "    matched_lat=df[\"location\"].apply(lambda x:x[1])\n",
    "    matched_data=[matched_lon, matched_lat]\n",
    "    matched_df=pd.concat(matched_data, axis=1)\n",
    "    matched_df.columns=[\"lon\",\"lat\"]\n",
    "\n",
    "    raw_df = df[[\"rawlng\",\"rawlat\"]]\n",
    "    raw_df.columns=[\"lon\",\"lat\"]\n",
    "\n",
    "    title = f'{trj_id}.html'\n",
    "    map = KeplerGl(height=600, width=600)\n",
    "    # add data to keplergl map\n",
    "    map.add_data(data=raw_df, name=\"Raw data\")\n",
    "    map.add_data(data=matched_df, name=\"Matched data\")\n",
    "    if config: map.config=config\n",
    "    map.save_to_html(file_name=title)\n",
    "    return map"
   ]
  },
  {
   "cell_type": "markdown",
   "id": "warming-chassis",
   "metadata": {},
   "source": [
    "### Good example outputs (Remove this cell before submitting)\n",
    "- 999\n",
    "- 2644\n",
    "- 3026\n",
    "- 7387\n",
    "- 9173"
   ]
  },
  {
   "cell_type": "markdown",
   "id": "white-auditor",
   "metadata": {},
   "source": [
    "##### 9173"
   ]
  },
  {
   "cell_type": "code",
   "execution_count": 12,
   "id": "handed-price",
   "metadata": {},
   "outputs": [
    {
     "data": {
      "text/html": [
       "\n",
       "        <iframe\n",
       "            width=\"600\"\n",
       "            height=\"600\"\n",
       "            src=\"./data/matched/final_maps/9173.html\"\n",
       "            frameborder=\"0\"\n",
       "            allowfullscreen\n",
       "        ></iframe>\n",
       "        "
      ],
      "text/plain": [
       "<IPython.lib.display.IFrame at 0x184039e7ac0>"
      ]
     },
     "execution_count": 12,
     "metadata": {},
     "output_type": "execute_result"
    }
   ],
   "source": [
    "IFrame('./data/matched/final_maps/9173.html', width=600, height=600)"
   ]
  },
  {
   "cell_type": "markdown",
   "id": "incoming-struggle",
   "metadata": {},
   "source": [
    "##### 7387"
   ]
  },
  {
   "cell_type": "code",
   "execution_count": 15,
   "id": "working-research",
   "metadata": {},
   "outputs": [
    {
     "data": {
      "text/html": [
       "\n",
       "        <iframe\n",
       "            width=\"600\"\n",
       "            height=\"600\"\n",
       "            src=\"./data/matched/final_maps/7387.html\"\n",
       "            frameborder=\"0\"\n",
       "            allowfullscreen\n",
       "        ></iframe>\n",
       "        "
      ],
      "text/plain": [
       "<IPython.lib.display.IFrame at 0x184039e76d0>"
      ]
     },
     "execution_count": 15,
     "metadata": {},
     "output_type": "execute_result"
    }
   ],
   "source": [
    "IFrame('./data/matched/final_maps/7387.html', width=600, height=600)"
   ]
  },
  {
   "cell_type": "markdown",
   "id": "familiar-audio",
   "metadata": {},
   "source": [
    "##### 3026"
   ]
  },
  {
   "cell_type": "code",
   "execution_count": 14,
   "id": "overall-filter",
   "metadata": {},
   "outputs": [
    {
     "data": {
      "text/html": [
       "\n",
       "        <iframe\n",
       "            width=\"600\"\n",
       "            height=\"600\"\n",
       "            src=\"./data/matched/final_maps/3026.html\"\n",
       "            frameborder=\"0\"\n",
       "            allowfullscreen\n",
       "        ></iframe>\n",
       "        "
      ],
      "text/plain": [
       "<IPython.lib.display.IFrame at 0x184039e7c70>"
      ]
     },
     "execution_count": 14,
     "metadata": {},
     "output_type": "execute_result"
    }
   ],
   "source": [
    "IFrame('./data/matched/final_maps/3026.html', width=600, height=600)"
   ]
  },
  {
   "cell_type": "code",
   "execution_count": null,
   "id": "imported-baker",
   "metadata": {},
   "outputs": [],
   "source": []
  }
 ],
 "metadata": {
  "kernelspec": {
   "display_name": "Python 3 (ipykernel)",
   "language": "python",
   "name": "python3"
  },
  "language_info": {
   "codemirror_mode": {
    "name": "ipython",
    "version": 3
   },
   "file_extension": ".py",
   "mimetype": "text/x-python",
   "name": "python",
   "nbconvert_exporter": "python",
   "pygments_lexer": "ipython3",
   "version": "3.8.10"
  }
 },
 "nbformat": 4,
 "nbformat_minor": 5
}
