{
 "cells": [
  {
   "cell_type": "markdown",
   "id": "44bf3cfa-5c65-48e4-a2a3-a75b2c678369",
   "metadata": {},
   "source": [
    "## Grab x Pulis"
   ]
  },
  {
   "cell_type": "markdown",
   "id": "34f7bee8-0522-4d7f-82d3-760a24cc238e",
   "metadata": {},
   "source": [
    "* Content Page:\n",
    "* Business understanding\n",
    "* Preprocessing\n",
    "* Map Matching\n",
    "* Understanding delay: bad route planning \n",
    "* Understanding delay 2: bottlenecks at POIs, can alleviate through suggested ideas"
   ]
  },
  {
   "cell_type": "code",
   "execution_count": 1,
   "id": "20872ced-ab9f-4c09-afc7-68117c54dd5e",
   "metadata": {},
   "outputs": [],
   "source": [
    "from preprocess import *\n",
    "import pandas as pd \n",
    "import geopandas as gpd\n",
    "import osmnx\n",
    "import folium\n",
    "import matplotlib.pyplot as plt\n",
    "import seaborn as sns\n",
    "import json\n",
    "import sys\n",
    "\n",
    "from ipyleaflet import (Map, GeoData, basemaps, WidgetControl, GeoJSON,\n",
    "                        LayersControl, Icon, Marker,basemap_to_tiles, Choropleth,\n",
    "                        MarkerCluster, Heatmap,SearchControl, \n",
    "                        FullScreenControl)\n",
    "from ipywidgets import Text, HTML"
   ]
  },
  {
   "cell_type": "code",
   "execution_count": 6,
   "id": "962f09ff-3efd-4566-8eba-5068e4575155",
   "metadata": {},
   "outputs": [
    {
     "name": "stdout",
     "output_type": "stream",
     "text": [
      "pyarrow                           7.0.0\n",
      "\u001b[33mWARNING: You are using pip version 21.3.1; however, version 22.0.3 is available.\n",
      "You should consider upgrading via the '/home/kenghwee/.cache/pypoetry/virtualenvs/grab-the-pulis-iQJvkJsy-py3.8/bin/python -m pip install --upgrade pip' command.\u001b[0m\n"
     ]
    }
   ],
   "source": [
    "!pip3 list | grep pyarrow"
   ]
  },
  {
   "cell_type": "code",
   "execution_count": 2,
   "id": "aeba456d-8d84-4466-b2bc-3dd13d30311e",
   "metadata": {},
   "outputs": [],
   "source": [
    "jkt_df = pd.read_feather('data/jkt.ftr')\n",
    "sg_df = pd.read_feather('data/sgp.ftr')"
   ]
  },
  {
   "cell_type": "code",
   "execution_count": 3,
   "id": "8c1041c6-f390-4404-800c-8deb495acb71",
   "metadata": {},
   "outputs": [],
   "source": [
    "from tqdm import tqdm"
   ]
  },
  {
   "cell_type": "code",
   "execution_count": 10,
   "id": "13945298-1c40-4abf-b032-55c540e4c679",
   "metadata": {},
   "outputs": [],
   "source": [
    "sg_df.insert(len(sg_df.columns)-1, \"day_of_week\", sg_df.pop(\"day_of_week\"))"
   ]
  },
  {
   "cell_type": "code",
   "execution_count": 17,
   "id": "d5abeddf-02d1-4ee8-8099-d5a79c1fbf44",
   "metadata": {},
   "outputs": [],
   "source": [
    "sg_df.to_feather('data/processed_sgp.ftr')"
   ]
  },
  {
   "cell_type": "code",
   "execution_count": 4,
   "id": "dfe484db-775d-422d-860b-3b98a074a137",
   "metadata": {},
   "outputs": [
    {
     "name": "stderr",
     "output_type": "stream",
     "text": [
      "100%|████████████████████████████████████████████████████████████████████████| 6009460/6009460 [00:11<00:00, 502572.45it/s]\n",
      "100%|████████████████████████████████████████████████████████████████████████| 6009460/6009460 [00:20<00:00, 294046.92it/s]\n",
      "100%|████████████████████████████████████████████████████████████████████████| 6009460/6009460 [00:24<00:00, 249286.69it/s]\n",
      "100%|████████████████████████████████████████████████████████████████████████| 6009460/6009460 [00:20<00:00, 293012.68it/s]\n",
      "100%|████████████████████████████████████████████████████████████████████████| 6009460/6009460 [00:22<00:00, 271759.74it/s]\n",
      "100%|██████████████████████████████████████████████████████████████████████| 29635342/29635342 [00:58<00:00, 504804.19it/s]\n",
      "100%|██████████████████████████████████████████████████████████████████████| 29635342/29635342 [01:42<00:00, 289212.41it/s]\n"
     ]
    },
    {
     "ename": "KeyError",
     "evalue": "\"['index'] not found in axis\"",
     "output_type": "error",
     "traceback": [
      "\u001b[0;31m---------------------------------------------------------------------------\u001b[0m",
      "\u001b[0;31mKeyError\u001b[0m                                  Traceback (most recent call last)",
      "Input \u001b[0;32mIn [4]\u001b[0m, in \u001b[0;36m<module>\u001b[0;34m\u001b[0m\n\u001b[1;32m      1\u001b[0m \u001b[38;5;66;03m# # preprocessing for jakarta df\u001b[39;00m\n\u001b[1;32m      2\u001b[0m \u001b[38;5;66;03m# jkt_dfclean = preprocess(jkt_df)\u001b[39;00m\n\u001b[1;32m      3\u001b[0m \u001b[38;5;66;03m# jkt_dfclean.reset_index(drop=True).to_feather('data/processed_jkt.ftr')\u001b[39;00m\n\u001b[0;32m----> 5\u001b[0m sg_dfclean \u001b[38;5;241m=\u001b[39m \u001b[43mpreprocess\u001b[49m\u001b[43m(\u001b[49m\u001b[43msg_df\u001b[49m\u001b[43m)\u001b[49m\n\u001b[1;32m      6\u001b[0m sg_dfclean\u001b[38;5;241m.\u001b[39mto_feather(\u001b[38;5;124m'\u001b[39m\u001b[38;5;124mdata/processed_sgp.ftr\u001b[39m\u001b[38;5;124m'\u001b[39m)\n",
      "File \u001b[0;32m~/Grab_The_Pulis/preprocess.py:81\u001b[0m, in \u001b[0;36mpreprocess\u001b[0;34m(df)\u001b[0m\n\u001b[1;32m     78\u001b[0m df\u001b[38;5;241m.\u001b[39minsert(\u001b[38;5;28mlen\u001b[39m(df\u001b[38;5;241m.\u001b[39mcolumns)\u001b[38;5;241m-\u001b[39m\u001b[38;5;241m1\u001b[39m, \u001b[38;5;124m\"\u001b[39m\u001b[38;5;124mday_of_week\u001b[39m\u001b[38;5;124m\"\u001b[39m, df\u001b[38;5;241m.\u001b[39mpop(\u001b[38;5;124m\"\u001b[39m\u001b[38;5;124mday_of_week\u001b[39m\u001b[38;5;124m\"\u001b[39m))\n\u001b[1;32m     80\u001b[0m \u001b[38;5;66;03m# Drop extra index column\u001b[39;00m\n\u001b[0;32m---> 81\u001b[0m df \u001b[38;5;241m=\u001b[39m \u001b[43mdf\u001b[49m\u001b[38;5;241;43m.\u001b[39;49m\u001b[43mdrop\u001b[49m\u001b[43m(\u001b[49m\u001b[38;5;124;43m\"\u001b[39;49m\u001b[38;5;124;43mindex\u001b[39;49m\u001b[38;5;124;43m\"\u001b[39;49m\u001b[43m,\u001b[49m\u001b[43m \u001b[49m\u001b[43maxis\u001b[49m\u001b[38;5;241;43m=\u001b[39;49m\u001b[38;5;241;43m1\u001b[39;49m\u001b[43m)\u001b[49m\n\u001b[1;32m     83\u001b[0m \u001b[38;5;66;03m# Convert type\u001b[39;00m\n\u001b[1;32m     84\u001b[0m df \u001b[38;5;241m=\u001b[39m type_convert(df)\n",
      "File \u001b[0;32m~/.cache/pypoetry/virtualenvs/grab-the-pulis-iQJvkJsy-py3.8/lib/python3.8/site-packages/pandas/util/_decorators.py:311\u001b[0m, in \u001b[0;36mdeprecate_nonkeyword_arguments.<locals>.decorate.<locals>.wrapper\u001b[0;34m(*args, **kwargs)\u001b[0m\n\u001b[1;32m    305\u001b[0m \u001b[38;5;28;01mif\u001b[39;00m \u001b[38;5;28mlen\u001b[39m(args) \u001b[38;5;241m>\u001b[39m num_allow_args:\n\u001b[1;32m    306\u001b[0m     warnings\u001b[38;5;241m.\u001b[39mwarn(\n\u001b[1;32m    307\u001b[0m         msg\u001b[38;5;241m.\u001b[39mformat(arguments\u001b[38;5;241m=\u001b[39marguments),\n\u001b[1;32m    308\u001b[0m         \u001b[38;5;167;01mFutureWarning\u001b[39;00m,\n\u001b[1;32m    309\u001b[0m         stacklevel\u001b[38;5;241m=\u001b[39mstacklevel,\n\u001b[1;32m    310\u001b[0m     )\n\u001b[0;32m--> 311\u001b[0m \u001b[38;5;28;01mreturn\u001b[39;00m \u001b[43mfunc\u001b[49m\u001b[43m(\u001b[49m\u001b[38;5;241;43m*\u001b[39;49m\u001b[43margs\u001b[49m\u001b[43m,\u001b[49m\u001b[43m \u001b[49m\u001b[38;5;241;43m*\u001b[39;49m\u001b[38;5;241;43m*\u001b[39;49m\u001b[43mkwargs\u001b[49m\u001b[43m)\u001b[49m\n",
      "File \u001b[0;32m~/.cache/pypoetry/virtualenvs/grab-the-pulis-iQJvkJsy-py3.8/lib/python3.8/site-packages/pandas/core/frame.py:4956\u001b[0m, in \u001b[0;36mDataFrame.drop\u001b[0;34m(self, labels, axis, index, columns, level, inplace, errors)\u001b[0m\n\u001b[1;32m   4808\u001b[0m \u001b[38;5;129m@deprecate_nonkeyword_arguments\u001b[39m(version\u001b[38;5;241m=\u001b[39m\u001b[38;5;28;01mNone\u001b[39;00m, allowed_args\u001b[38;5;241m=\u001b[39m[\u001b[38;5;124m\"\u001b[39m\u001b[38;5;124mself\u001b[39m\u001b[38;5;124m\"\u001b[39m, \u001b[38;5;124m\"\u001b[39m\u001b[38;5;124mlabels\u001b[39m\u001b[38;5;124m\"\u001b[39m])\n\u001b[1;32m   4809\u001b[0m \u001b[38;5;28;01mdef\u001b[39;00m \u001b[38;5;21mdrop\u001b[39m(\n\u001b[1;32m   4810\u001b[0m     \u001b[38;5;28mself\u001b[39m,\n\u001b[0;32m   (...)\u001b[0m\n\u001b[1;32m   4817\u001b[0m     errors: \u001b[38;5;28mstr\u001b[39m \u001b[38;5;241m=\u001b[39m \u001b[38;5;124m\"\u001b[39m\u001b[38;5;124mraise\u001b[39m\u001b[38;5;124m\"\u001b[39m,\n\u001b[1;32m   4818\u001b[0m ):\n\u001b[1;32m   4819\u001b[0m     \u001b[38;5;124;03m\"\"\"\u001b[39;00m\n\u001b[1;32m   4820\u001b[0m \u001b[38;5;124;03m    Drop specified labels from rows or columns.\u001b[39;00m\n\u001b[1;32m   4821\u001b[0m \n\u001b[0;32m   (...)\u001b[0m\n\u001b[1;32m   4954\u001b[0m \u001b[38;5;124;03m            weight  1.0     0.8\u001b[39;00m\n\u001b[1;32m   4955\u001b[0m \u001b[38;5;124;03m    \"\"\"\u001b[39;00m\n\u001b[0;32m-> 4956\u001b[0m     \u001b[38;5;28;01mreturn\u001b[39;00m \u001b[38;5;28;43msuper\u001b[39;49m\u001b[43m(\u001b[49m\u001b[43m)\u001b[49m\u001b[38;5;241;43m.\u001b[39;49m\u001b[43mdrop\u001b[49m\u001b[43m(\u001b[49m\n\u001b[1;32m   4957\u001b[0m \u001b[43m        \u001b[49m\u001b[43mlabels\u001b[49m\u001b[38;5;241;43m=\u001b[39;49m\u001b[43mlabels\u001b[49m\u001b[43m,\u001b[49m\n\u001b[1;32m   4958\u001b[0m \u001b[43m        \u001b[49m\u001b[43maxis\u001b[49m\u001b[38;5;241;43m=\u001b[39;49m\u001b[43maxis\u001b[49m\u001b[43m,\u001b[49m\n\u001b[1;32m   4959\u001b[0m \u001b[43m        \u001b[49m\u001b[43mindex\u001b[49m\u001b[38;5;241;43m=\u001b[39;49m\u001b[43mindex\u001b[49m\u001b[43m,\u001b[49m\n\u001b[1;32m   4960\u001b[0m \u001b[43m        \u001b[49m\u001b[43mcolumns\u001b[49m\u001b[38;5;241;43m=\u001b[39;49m\u001b[43mcolumns\u001b[49m\u001b[43m,\u001b[49m\n\u001b[1;32m   4961\u001b[0m \u001b[43m        \u001b[49m\u001b[43mlevel\u001b[49m\u001b[38;5;241;43m=\u001b[39;49m\u001b[43mlevel\u001b[49m\u001b[43m,\u001b[49m\n\u001b[1;32m   4962\u001b[0m \u001b[43m        \u001b[49m\u001b[43minplace\u001b[49m\u001b[38;5;241;43m=\u001b[39;49m\u001b[43minplace\u001b[49m\u001b[43m,\u001b[49m\n\u001b[1;32m   4963\u001b[0m \u001b[43m        \u001b[49m\u001b[43merrors\u001b[49m\u001b[38;5;241;43m=\u001b[39;49m\u001b[43merrors\u001b[49m\u001b[43m,\u001b[49m\n\u001b[1;32m   4964\u001b[0m \u001b[43m    \u001b[49m\u001b[43m)\u001b[49m\n",
      "File \u001b[0;32m~/.cache/pypoetry/virtualenvs/grab-the-pulis-iQJvkJsy-py3.8/lib/python3.8/site-packages/pandas/core/generic.py:4279\u001b[0m, in \u001b[0;36mNDFrame.drop\u001b[0;34m(self, labels, axis, index, columns, level, inplace, errors)\u001b[0m\n\u001b[1;32m   4277\u001b[0m \u001b[38;5;28;01mfor\u001b[39;00m axis, labels \u001b[38;5;129;01min\u001b[39;00m axes\u001b[38;5;241m.\u001b[39mitems():\n\u001b[1;32m   4278\u001b[0m     \u001b[38;5;28;01mif\u001b[39;00m labels \u001b[38;5;129;01mis\u001b[39;00m \u001b[38;5;129;01mnot\u001b[39;00m \u001b[38;5;28;01mNone\u001b[39;00m:\n\u001b[0;32m-> 4279\u001b[0m         obj \u001b[38;5;241m=\u001b[39m \u001b[43mobj\u001b[49m\u001b[38;5;241;43m.\u001b[39;49m\u001b[43m_drop_axis\u001b[49m\u001b[43m(\u001b[49m\u001b[43mlabels\u001b[49m\u001b[43m,\u001b[49m\u001b[43m \u001b[49m\u001b[43maxis\u001b[49m\u001b[43m,\u001b[49m\u001b[43m \u001b[49m\u001b[43mlevel\u001b[49m\u001b[38;5;241;43m=\u001b[39;49m\u001b[43mlevel\u001b[49m\u001b[43m,\u001b[49m\u001b[43m \u001b[49m\u001b[43merrors\u001b[49m\u001b[38;5;241;43m=\u001b[39;49m\u001b[43merrors\u001b[49m\u001b[43m)\u001b[49m\n\u001b[1;32m   4281\u001b[0m \u001b[38;5;28;01mif\u001b[39;00m inplace:\n\u001b[1;32m   4282\u001b[0m     \u001b[38;5;28mself\u001b[39m\u001b[38;5;241m.\u001b[39m_update_inplace(obj)\n",
      "File \u001b[0;32m~/.cache/pypoetry/virtualenvs/grab-the-pulis-iQJvkJsy-py3.8/lib/python3.8/site-packages/pandas/core/generic.py:4323\u001b[0m, in \u001b[0;36mNDFrame._drop_axis\u001b[0;34m(self, labels, axis, level, errors, consolidate, only_slice)\u001b[0m\n\u001b[1;32m   4321\u001b[0m         new_axis \u001b[38;5;241m=\u001b[39m axis\u001b[38;5;241m.\u001b[39mdrop(labels, level\u001b[38;5;241m=\u001b[39mlevel, errors\u001b[38;5;241m=\u001b[39merrors)\n\u001b[1;32m   4322\u001b[0m     \u001b[38;5;28;01melse\u001b[39;00m:\n\u001b[0;32m-> 4323\u001b[0m         new_axis \u001b[38;5;241m=\u001b[39m \u001b[43maxis\u001b[49m\u001b[38;5;241;43m.\u001b[39;49m\u001b[43mdrop\u001b[49m\u001b[43m(\u001b[49m\u001b[43mlabels\u001b[49m\u001b[43m,\u001b[49m\u001b[43m \u001b[49m\u001b[43merrors\u001b[49m\u001b[38;5;241;43m=\u001b[39;49m\u001b[43merrors\u001b[49m\u001b[43m)\u001b[49m\n\u001b[1;32m   4324\u001b[0m     indexer \u001b[38;5;241m=\u001b[39m axis\u001b[38;5;241m.\u001b[39mget_indexer(new_axis)\n\u001b[1;32m   4326\u001b[0m \u001b[38;5;66;03m# Case for non-unique axis\u001b[39;00m\n\u001b[1;32m   4327\u001b[0m \u001b[38;5;28;01melse\u001b[39;00m:\n",
      "File \u001b[0;32m~/.cache/pypoetry/virtualenvs/grab-the-pulis-iQJvkJsy-py3.8/lib/python3.8/site-packages/pandas/core/indexes/base.py:6644\u001b[0m, in \u001b[0;36mIndex.drop\u001b[0;34m(self, labels, errors)\u001b[0m\n\u001b[1;32m   6642\u001b[0m \u001b[38;5;28;01mif\u001b[39;00m mask\u001b[38;5;241m.\u001b[39many():\n\u001b[1;32m   6643\u001b[0m     \u001b[38;5;28;01mif\u001b[39;00m errors \u001b[38;5;241m!=\u001b[39m \u001b[38;5;124m\"\u001b[39m\u001b[38;5;124mignore\u001b[39m\u001b[38;5;124m\"\u001b[39m:\n\u001b[0;32m-> 6644\u001b[0m         \u001b[38;5;28;01mraise\u001b[39;00m \u001b[38;5;167;01mKeyError\u001b[39;00m(\u001b[38;5;124mf\u001b[39m\u001b[38;5;124m\"\u001b[39m\u001b[38;5;132;01m{\u001b[39;00m\u001b[38;5;28mlist\u001b[39m(labels[mask])\u001b[38;5;132;01m}\u001b[39;00m\u001b[38;5;124m not found in axis\u001b[39m\u001b[38;5;124m\"\u001b[39m)\n\u001b[1;32m   6645\u001b[0m     indexer \u001b[38;5;241m=\u001b[39m indexer[\u001b[38;5;241m~\u001b[39mmask]\n\u001b[1;32m   6646\u001b[0m \u001b[38;5;28;01mreturn\u001b[39;00m \u001b[38;5;28mself\u001b[39m\u001b[38;5;241m.\u001b[39mdelete(indexer)\n",
      "\u001b[0;31mKeyError\u001b[0m: \"['index'] not found in axis\""
     ]
    }
   ],
   "source": [
    "# # preprocessing for jakarta df\n",
    "# jkt_dfclean = preprocess(jkt_df)\n",
    "# jkt_dfclean.reset_index(drop=True).to_feather('data/processed_jkt.ftr')\n",
    "\n",
    "sg_dfclean = preprocess(sg_df)\n",
    "sg_dfclean.to_feather('data/processed_sgp.ftr')"
   ]
  },
  {
   "cell_type": "code",
   "execution_count": null,
   "id": "c9b3e43c-707f-4b43-a0bb-fc3d6060061e",
   "metadata": {},
   "outputs": [
    {
     "name": "stderr",
     "output_type": "stream",
     "text": [
      " 50%|████████████████████████████████████████▊                                        | 5639/11203 [09:19<08:08, 11.38it/s]"
     ]
    }
   ],
   "source": [
    "jkt_dfclean = preprocess(jkt_df)\n",
    "jkt_dfclean.to_feather('data/processed_jkt.ftr')"
   ]
  },
  {
   "cell_type": "code",
   "execution_count": 5,
   "id": "ce79631b-407a-4fd0-9bc4-9c29472e6781",
   "metadata": {},
   "outputs": [
    {
     "data": {
      "text/plain": [
       "[('jkt_df', 4596628965),\n",
       " ('sg_df', 2429164400),\n",
       " ('basemaps', 1192),\n",
       " ('Choropleth', 1064),\n",
       " ('FullScreenControl', 1064),\n",
       " ('GeoData', 1064),\n",
       " ('GeoJSON', 1064),\n",
       " ('HTML', 1064),\n",
       " ('Heatmap', 1064),\n",
       " ('Icon', 1064),\n",
       " ('LayersControl', 1064),\n",
       " ('Map', 1064),\n",
       " ('Marker', 1064),\n",
       " ('MarkerCluster', 1064),\n",
       " ('SearchControl', 1064),\n",
       " ('Text', 1064),\n",
       " ('WidgetControl', 1064),\n",
       " ('basemap_to_tiles', 136),\n",
       " ('group_zero', 136),\n",
       " ('ios_bearing_check', 136),\n",
       " ('type_convert', 136),\n",
       " ('gpd', 72),\n",
       " ('pd', 72),\n",
       " ('plt', 72),\n",
       " ('sns', 72)]"
      ]
     },
     "execution_count": 5,
     "metadata": {},
     "output_type": "execute_result"
    }
   ],
   "source": [
    "# These are the usual ipython objects, including this one you are creating\n",
    "ipython_vars = ['In', 'Out', 'exit', 'quit', 'get_ipython', 'ipython_vars']\n",
    "\n",
    "# Get a sorted list of the objects and their sizes\n",
    "sorted([(x, sys.getsizeof(globals().get(x))) for x in dir() if not x.startswith('_') and x not in sys.modules and x not in ipython_vars], key=lambda x: x[1], reverse=True)"
   ]
  },
  {
   "cell_type": "code",
   "execution_count": null,
   "id": "1ffc2172-011e-4ecf-aaab-7367cfaed790",
   "metadata": {},
   "outputs": [],
   "source": []
  }
 ],
 "metadata": {
  "kernelspec": {
   "display_name": "grab_dac",
   "language": "python",
   "name": "grab_dac"
  },
  "language_info": {
   "codemirror_mode": {
    "name": "ipython",
    "version": 3
   },
   "file_extension": ".py",
   "mimetype": "text/x-python",
   "name": "python",
   "nbconvert_exporter": "python",
   "pygments_lexer": "ipython3",
   "version": "3.8.10"
  }
 },
 "nbformat": 4,
 "nbformat_minor": 5
}
